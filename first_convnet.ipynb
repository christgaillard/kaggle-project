{
  "nbformat": 4,
  "nbformat_minor": 0,
  "metadata": {
    "colab": {
      "provenance": [],
      "authorship_tag": "ABX9TyOnU8Zt4Qkniu/qEtSn62LW",
      "include_colab_link": true
    },
    "kernelspec": {
      "name": "python3",
      "display_name": "Python 3"
    },
    "language_info": {
      "name": "python"
    }
  },
  "cells": [
    {
      "cell_type": "markdown",
      "metadata": {
        "id": "view-in-github",
        "colab_type": "text"
      },
      "source": [
        "<a href=\"https://colab.research.google.com/github/christgaillard/kaggle-project/blob/R%26D/first_convnet.ipynb\" target=\"_parent\"><img src=\"https://colab.research.google.com/assets/colab-badge.svg\" alt=\"Open In Colab\"/></a>"
      ]
    },
    {
      "cell_type": "code",
      "execution_count": 1,
      "metadata": {
        "id": "FJsUKG0PCqG-"
      },
      "outputs": [],
      "source": [
        "from tensorflow import keras\n",
        "from tensorflow.keras import layers"
      ]
    },
    {
      "cell_type": "code",
      "source": [
        "model = keras.Sequential([\n",
        "    # First convolational Block\n",
        "    # give the input dimensions in the first layer\n",
        "    #[height, width,color channels(RGB)]\n",
        "    layers.Conv2D(filters=32, \n",
        "                  kernel_size=5, \n",
        "                  activation=\"relu\",\n",
        "                  padding='same',\n",
        "                  input_shape=[128,128,3]),\n",
        "     layers.MaxPool2D(),\n",
        "     \n",
        "     # Second convolutional block \n",
        "     layers.Conv2D(filters=64, kernel_size=3, activation=\"relu\", padding='same'),\n",
        "     layers.MaxPool2D(),\n",
        "\n",
        "     # Third convolutional block \n",
        "     layers.Conv2D(filters=128, kernel_size=3, activation=\"relu\", padding='same'),\n",
        "     layers.MaxPool2D(),\n",
        "\n",
        "     # Classifier Head\n",
        "     layers.Flatten(),\n",
        "     layers.Dense(units=6, activation=\"relu\"),\n",
        "     layers.Dense(units=1, activation=\"sigmoid\"),\n",
        "])"
      ],
      "metadata": {
        "id": "_fO8LnKGE091"
      },
      "execution_count": 6,
      "outputs": []
    },
    {
      "cell_type": "code",
      "source": [
        "model.summary()"
      ],
      "metadata": {
        "colab": {
          "base_uri": "https://localhost:8080/"
        },
        "id": "G_ZkhbIOLLhr",
        "outputId": "41a768ea-8cbd-4ea7-dae2-bb4df8f6b7d9"
      },
      "execution_count": 8,
      "outputs": [
        {
          "output_type": "stream",
          "name": "stdout",
          "text": [
            "Model: \"sequential\"\n",
            "_________________________________________________________________\n",
            " Layer (type)                Output Shape              Param #   \n",
            "=================================================================\n",
            " conv2d_3 (Conv2D)           (None, 128, 128, 32)      2432      \n",
            "                                                                 \n",
            " max_pooling2d_3 (MaxPooling  (None, 64, 64, 32)       0         \n",
            " 2D)                                                             \n",
            "                                                                 \n",
            " conv2d_4 (Conv2D)           (None, 64, 64, 64)        18496     \n",
            "                                                                 \n",
            " max_pooling2d_4 (MaxPooling  (None, 32, 32, 64)       0         \n",
            " 2D)                                                             \n",
            "                                                                 \n",
            " conv2d_5 (Conv2D)           (None, 32, 32, 128)       73856     \n",
            "                                                                 \n",
            " max_pooling2d_5 (MaxPooling  (None, 16, 16, 128)      0         \n",
            " 2D)                                                             \n",
            "                                                                 \n",
            " flatten_1 (Flatten)         (None, 32768)             0         \n",
            "                                                                 \n",
            " dense_1 (Dense)             (None, 6)                 196614    \n",
            "                                                                 \n",
            " dense_2 (Dense)             (None, 1)                 7         \n",
            "                                                                 \n",
            "=================================================================\n",
            "Total params: 291,405\n",
            "Trainable params: 291,405\n",
            "Non-trainable params: 0\n",
            "_________________________________________________________________\n"
          ]
        }
      ]
    }
  ]
}